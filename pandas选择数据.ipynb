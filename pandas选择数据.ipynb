{
 "cells": [
  {
   "cell_type": "code",
   "execution_count": 3,
   "metadata": {
    "collapsed": true
   },
   "outputs": [],
   "source": [
    "import pandas as pd\n",
    "import numpy as np\n",
    "dates = pd.date_range('20190420',periods=6)\n",
    "df = pd.DataFrame(np.arange(24).reshape(6,4),index = dates,columns=['a','b','c','d'])"
   ]
  },
  {
   "cell_type": "code",
   "execution_count": 4,
   "metadata": {},
   "outputs": [
    {
     "name": "stdout",
     "output_type": "stream",
     "text": [
      "2019-04-20     0\n",
      "2019-04-21     4\n",
      "2019-04-22     8\n",
      "2019-04-23    12\n",
      "2019-04-24    16\n",
      "2019-04-25    20\n",
      "Freq: D, Name: a, dtype: int32\n"
     ]
    }
   ],
   "source": [
    "print(df['a'])"
   ]
  },
  {
   "cell_type": "code",
   "execution_count": 6,
   "metadata": {},
   "outputs": [
    {
     "name": "stdout",
     "output_type": "stream",
     "text": [
      "            a  b  c  d\n",
      "2019-04-20  0  1  2  3\n",
      "2019-04-21  4  5  6  7\n"
     ]
    }
   ],
   "source": [
    "print(df[0:2])"
   ]
  },
  {
   "cell_type": "code",
   "execution_count": 7,
   "metadata": {},
   "outputs": [
    {
     "name": "stdout",
     "output_type": "stream",
     "text": [
      "a    4\n",
      "b    5\n",
      "c    6\n",
      "d    7\n",
      "Name: 2019-04-21 00:00:00, dtype: int32\n"
     ]
    }
   ],
   "source": [
    "# select by label:loc\n",
    "print(df.loc['2019-04-21'])"
   ]
  },
  {
   "cell_type": "code",
   "execution_count": 9,
   "metadata": {},
   "outputs": [
    {
     "name": "stdout",
     "output_type": "stream",
     "text": [
      "2019-04-20     0\n",
      "2019-04-21     4\n",
      "2019-04-22     8\n",
      "2019-04-23    12\n",
      "2019-04-24    16\n",
      "2019-04-25    20\n",
      "Freq: D, Name: a, dtype: int32\n"
     ]
    }
   ],
   "source": [
    "print(df.loc[:,'a'])"
   ]
  },
  {
   "cell_type": "code",
   "execution_count": 10,
   "metadata": {},
   "outputs": [
    {
     "name": "stdout",
     "output_type": "stream",
     "text": [
      "             b   c\n",
      "2019-04-23  13  14\n",
      "2019-04-24  17  18\n"
     ]
    }
   ],
   "source": [
    "# select by postition:iloc\n",
    "print(df.iloc[3:5,1:3])"
   ]
  },
  {
   "cell_type": "code",
   "execution_count": 11,
   "metadata": {},
   "outputs": [
    {
     "name": "stdout",
     "output_type": "stream",
     "text": [
      "            a  b\n",
      "2019-04-20  0  1\n",
      "2019-04-21  4  5\n",
      "2019-04-22  8  9\n"
     ]
    },
    {
     "name": "stderr",
     "output_type": "stream",
     "text": [
      "C:\\ProgramData\\Anaconda3\\envs\\tensorflow_gpu\\lib\\site-packages\\ipykernel_launcher.py:2: DeprecationWarning: \n",
      ".ix is deprecated. Please use\n",
      ".loc for label based indexing or\n",
      ".iloc for positional indexing\n",
      "\n",
      "See the documentation here:\n",
      "http://pandas.pydata.org/pandas-docs/stable/indexing.html#deprecate_ix\n",
      "  \n"
     ]
    }
   ],
   "source": [
    "# maxed selection ix:\n",
    "print(df.ix[:3,['a','b']])"
   ]
  },
  {
   "cell_type": "code",
   "execution_count": null,
   "metadata": {
    "collapsed": true
   },
   "outputs": [],
   "source": []
  },
  {
   "cell_type": "code",
   "execution_count": 12,
   "metadata": {},
   "outputs": [
    {
     "name": "stdout",
     "output_type": "stream",
     "text": [
      "             a   b   c   d\n",
      "2019-04-20   0   1   2   3\n",
      "2019-04-21   4   5   6   7\n",
      "2019-04-22   8   9  10  11\n",
      "2019-04-23  12  13  14  15\n",
      "2019-04-24  16  17  18  19\n",
      "2019-04-25  20  21  22  23\n",
      "             a   b   c   d\n",
      "2019-04-21   4   5   6   7\n",
      "2019-04-22   8   9  10  11\n",
      "2019-04-23  12  13  14  15\n",
      "2019-04-24  16  17  18  19\n",
      "2019-04-25  20  21  22  23\n"
     ]
    }
   ],
   "source": [
    "print(df)\n",
    "print(df[df.a > 3])"
   ]
  },
  {
   "cell_type": "code",
   "execution_count": null,
   "metadata": {
    "collapsed": true
   },
   "outputs": [],
   "source": []
  }
 ],
 "metadata": {
  "kernelspec": {
   "display_name": "Python 3",
   "language": "python",
   "name": "python3"
  },
  "language_info": {
   "codemirror_mode": {
    "name": "ipython",
    "version": 3
   },
   "file_extension": ".py",
   "mimetype": "text/x-python",
   "name": "python",
   "nbconvert_exporter": "python",
   "pygments_lexer": "ipython3",
   "version": "3.6.1"
  }
 },
 "nbformat": 4,
 "nbformat_minor": 2
}
